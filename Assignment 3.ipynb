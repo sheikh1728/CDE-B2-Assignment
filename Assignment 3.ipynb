{
 "cells": [
  {
   "cell_type": "markdown",
   "id": "e420a8f3-9e21-4263-a8f9-95dd6a9b9fb1",
   "metadata": {},
   "source": [
    "1) Write a program that accepts a string from user. Your program should count and display number of \n",
    "vowels in that string. "
   ]
  },
  {
   "cell_type": "code",
   "execution_count": 8,
   "id": "4ebf43b9-7cd0-481e-9f5f-a11202e93c5b",
   "metadata": {},
   "outputs": [
    {
     "name": "stdin",
     "output_type": "stream",
     "text": [
      "Enter a string:  Saylani\n"
     ]
    },
    {
     "name": "stdout",
     "output_type": "stream",
     "text": [
      "The number of vowels in the string is: 3\n"
     ]
    }
   ],
   "source": [
    "# Function to count vowels\n",
    "def count_vowels(input_string):\n",
    "    vowels = \"aeiouAEIOU\"  # List of vowels (both lowercase and uppercase)\n",
    "    count = 0\n",
    "    \n",
    "    # Iterate through each character in the string\n",
    "    for char in input_string:\n",
    "        if char in vowels:\n",
    "            count += 1\n",
    "    \n",
    "    return count\n",
    "\n",
    "# Accepting user input\n",
    "user_input = input(\"Enter a string: \")\n",
    "\n",
    "# Counting vowels\n",
    "vowel_count = count_vowels(user_input)\n",
    "\n",
    "# Displaying the result\n",
    "print(f\"The number of vowels in the string is: {vowel_count}\")\n"
   ]
  },
  {
   "cell_type": "markdown",
   "id": "dab4c6c8-07fc-44fa-8627-5dcaaba49a6f",
   "metadata": {},
   "source": [
    "2) Write a program that reads a string from keyboard and display: \n",
    "* The number of uppercase letters in the string \n",
    "* The number of lowercase letters in the string \n",
    "* The number of digits in the string \n",
    "* The number of whitespace characters in the string  "
   ]
  },
  {
   "cell_type": "code",
   "execution_count": 15,
   "id": "6ba85e9d-38f1-48bd-a1f7-1311cb2fb72c",
   "metadata": {},
   "outputs": [
    {
     "name": "stdin",
     "output_type": "stream",
     "text": [
      "Enter a string:  The independence day of Pakistan is 14,Aug,19947.\n"
     ]
    },
    {
     "name": "stdout",
     "output_type": "stream",
     "text": [
      "Number of uppercase letters: 3\n",
      "Number of lowercase letters: 30\n",
      "Number of digits: 7\n",
      "Number of whitespace characters: 6\n"
     ]
    }
   ],
   "source": [
    "# Function to count uppercase, lowercase, digits, and whitespaces\n",
    "def count_characters(input_string):\n",
    "    uppercase_count = 0\n",
    "    lowercase_count = 0\n",
    "    digit_count = 0\n",
    "    whitespace_count = 0\n",
    "    \n",
    "    # Iterate through each character in the string\n",
    "    for char in input_string:\n",
    "        if char.isupper():\n",
    "            uppercase_count += 1\n",
    "        elif char.islower():\n",
    "            lowercase_count += 1\n",
    "        elif char.isdigit():\n",
    "            digit_count += 1\n",
    "        elif char.isspace():\n",
    "            whitespace_count += 1\n",
    "            \n",
    "    return uppercase_count, lowercase_count, digit_count, whitespace_count\n",
    "\n",
    "# Accepting user input\n",
    "user_input = input(\"Enter a string: \")\n",
    "\n",
    "# Counting the characters\n",
    "uppercase, lowercase, digits, whitespaces = count_characters(user_input)\n",
    "\n",
    "# Displaying the result\n",
    "print(f\"Number of uppercase letters: {uppercase}\")\n",
    "print(f\"Number of lowercase letters: {lowercase}\")\n",
    "print(f\"Number of digits: {digits}\")\n",
    "print(f\"Number of whitespace characters: {whitespaces}\")\n"
   ]
  },
  {
   "cell_type": "markdown",
   "id": "83818ea6-bc24-4133-949f-9f2ce331f7f3",
   "metadata": {},
   "source": [
    "3. Write a Python program that accepts a string from user. Your program should create and display a \n",
    "new string where the first and last characters have been exchanged."
   ]
  },
  {
   "cell_type": "code",
   "execution_count": 30,
   "id": "4a245d63-8ed3-4df2-8808-a977f40d1308",
   "metadata": {},
   "outputs": [
    {
     "name": "stdin",
     "output_type": "stream",
     "text": [
      "Enter a string:  Exchange\n"
     ]
    },
    {
     "name": "stdout",
     "output_type": "stream",
     "text": [
      "The new string with first and last characters exchanged is: exchangE\n"
     ]
    }
   ],
   "source": [
    "# Function to exchange first and last characters\n",
    "def exchange_first_last(input_string):\n",
    "    # Check if the string has at least two characters\n",
    "    if len(input_string) > 1:\n",
    "        # Create a new string with first and last characters exchanged\n",
    "        new_string = input_string[-1] + input_string[1:-1] + input_string[0]\n",
    "        return new_string\n",
    "    else:\n",
    "        # If the string has only one character or is empty, return the string as is\n",
    "        return input_string\n",
    "\n",
    "# Accepting user input\n",
    "user_input = input(\"Enter a string: \")\n",
    "\n",
    "# Exchange first and last characters\n",
    "new_string = exchange_first_last(user_input)\n",
    "\n",
    "# Displaying the result\n",
    "print(f\"The new string with first and last characters exchanged is: {new_string}\")\n"
   ]
  },
  {
   "cell_type": "markdown",
   "id": "738cb3f9-e0bd-47a4-8cac-8d13d1b063f6",
   "metadata": {},
   "source": [
    "4. Write a Python program that accepts a string from user. Your program should create a new string in \n",
    "reverse of first string and display it. "
   ]
  },
  {
   "cell_type": "code",
   "execution_count": 36,
   "id": "53647aab-2585-4a71-b89e-db66013d7f65",
   "metadata": {},
   "outputs": [
    {
     "name": "stdin",
     "output_type": "stream",
     "text": [
      "Enter a string:  Maxe\n"
     ]
    },
    {
     "name": "stdout",
     "output_type": "stream",
     "text": [
      "The reversed string is: exaM\n"
     ]
    }
   ],
   "source": [
    "# Function to reverse the string\n",
    "def reverse_string(input_string):\n",
    "    return input_string[::-1]\n",
    "\n",
    "# Accepting user input\n",
    "user_input = input(\"Enter a string: \")\n",
    "\n",
    "# Reversing the string\n",
    "reversed_string = reverse_string(user_input)\n",
    "\n",
    "# Displaying the result\n",
    "print(f\"The reversed string is: {reversed_string}\")\n"
   ]
  },
  {
   "cell_type": "markdown",
   "id": "a1f7c56b-886e-474a-8d71-6ac1141f4218",
   "metadata": {},
   "source": [
    "5. Write a Python program that accepts a string from user. Your program should create a new string by \n",
    "shifting one position to left. "
   ]
  },
  {
   "cell_type": "code",
   "execution_count": 41,
   "id": "5d4cd8e9-a26e-41ad-8ea0-904eac37cd96",
   "metadata": {},
   "outputs": [
    {
     "name": "stdin",
     "output_type": "stream",
     "text": [
      "Enter a string:  Examination 2021\n"
     ]
    },
    {
     "name": "stdout",
     "output_type": "stream",
     "text": [
      "The string after shifting one position to the left is: xamination 2021E\n"
     ]
    }
   ],
   "source": [
    "# Function to shift characters of the string one position to the left\n",
    "def shift_left(input_string):\n",
    "    # If the string is empty or has only one character, it remains unchanged\n",
    "    if len(input_string) <= 1:\n",
    "        return input_string\n",
    "    \n",
    "    # Shift characters one position to the left\n",
    "    new_string = input_string[1:] + input_string[0]\n",
    "    return new_string\n",
    "\n",
    "# Accepting user input\n",
    "user_input = input(\"Enter a string: \")\n",
    "\n",
    "# Shifting the string one position to the left\n",
    "shifted_string = shift_left(user_input)\n",
    "\n",
    "# Displaying the result\n",
    "print(f\"The string after shifting one position to the left is: {shifted_string}\")\n"
   ]
  },
  {
   "cell_type": "markdown",
   "id": "9ee28081-9402-4655-b605-80e31096454f",
   "metadata": {},
   "source": [
    "6. Write a program that asks the user to input his name and print its initials. Assuming that the user \n",
    "always types first name, middle name and last name and does not include any unnecessary spaces."
   ]
  },
  {
   "cell_type": "code",
   "execution_count": 52,
   "id": "ed89e86d-48bb-48f3-abf1-37113a261253",
   "metadata": {},
   "outputs": [
    {
     "name": "stdin",
     "output_type": "stream",
     "text": [
      "Enter your full name (first, middle, last):  Muhammad taimoor Sheikh\n"
     ]
    },
    {
     "name": "stdout",
     "output_type": "stream",
     "text": [
      "Your initials are: MTS\n"
     ]
    }
   ],
   "source": [
    "# Function to get initials from a full name\n",
    "def get_initials(full_name):\n",
    "    # Split the full name into parts (first, middle, last)\n",
    "    name_parts = full_name.split()\n",
    "    \n",
    "    # Get the first letter of each part and join them as initials\n",
    "    initials = ''.join([part[0].upper() for part in name_parts])\n",
    "    \n",
    "    return initials\n",
    "\n",
    "# Accepting user input for the full name\n",
    "user_name = input(\"Enter your full name (first, middle, last): \")\n",
    "\n",
    "# Get the initials\n",
    "initials = get_initials(user_name)\n",
    "\n",
    "# Displaying the result\n",
    "print(f\"Your initials are: {initials}\")\n"
   ]
  },
  {
   "cell_type": "markdown",
   "id": "ab0621f0-2300-4915-a9fb-9924fa04a18d",
   "metadata": {},
   "source": [
    "7. A palindrome is a string that reads the same backward as forward. For example, the words dad, \n",
    "madam and radar are all palindromes. Write a programs that determines whether the string is a \n",
    "palindrome. \n",
    "Note: do not use reverse() method  "
   ]
  },
  {
   "cell_type": "code",
   "execution_count": 59,
   "id": "7e72ae70-81cb-454e-871d-523a4389c5bc",
   "metadata": {},
   "outputs": [
    {
     "name": "stdin",
     "output_type": "stream",
     "text": [
      "Enter a string:  Exchange\n"
     ]
    },
    {
     "name": "stdout",
     "output_type": "stream",
     "text": [
      "'Exchange' is not a palindrome.\n"
     ]
    }
   ],
   "source": [
    "# Function to check if the string is a palindrome\n",
    "def is_palindrome(input_string):\n",
    "    # Remove spaces and convert to lowercase to make the check case-insensitive\n",
    "    input_string = input_string.replace(\" \", \"\").lower()\n",
    "    \n",
    "    # Compare the string with its reverse using slicing\n",
    "    return input_string == input_string[::-1]\n",
    "\n",
    "# Accepting user input\n",
    "user_input = input(\"Enter a string: \")\n",
    "\n",
    "# Check if the string is a palindrome\n",
    "if is_palindrome(user_input):\n",
    "    print(f\"'{user_input}' is a palindrome.\")\n",
    "else:\n",
    "    print(f\"'{user_input}' is not a palindrome.\")\n"
   ]
  },
  {
   "cell_type": "markdown",
   "id": "598fd6aa-5336-43a9-ab1b-dae6c4ade051",
   "metadata": {},
   "source": [
    "8. Write a program that display following output: \n",
    "SHIFT \n",
    "HIFTS \n",
    "IFTSH \n",
    "FTSHI \n",
    "TSHIF \n",
    "SHIFT "
   ]
  },
  {
   "cell_type": "code",
   "execution_count": 62,
   "id": "9c69e4e4-6586-4b2c-88df-ec5ade15de91",
   "metadata": {},
   "outputs": [
    {
     "name": "stdout",
     "output_type": "stream",
     "text": [
      "SHIFT\n",
      "HIFTS\n",
      "IFTSH\n",
      "FTSHI\n",
      "TSHIF\n"
     ]
    }
   ],
   "source": [
    "# Function to generate and print the required pattern\n",
    "def display_pattern(word):\n",
    "    # Loop through the length of the word\n",
    "    for i in range(len(word)):\n",
    "        # Print the rotated version of the word\n",
    "        print(word[i:] + word[:i])\n",
    "\n",
    "# Given word\n",
    "word = \"SHIFT\"\n",
    "\n",
    "# Display the pattern\n",
    "display_pattern(word)\n"
   ]
  },
  {
   "cell_type": "markdown",
   "id": "b5300a91-2e6f-4cdf-b194-d2c4d016fdd2",
   "metadata": {},
   "source": [
    "9. Write a program in python that accepts a string to setup a passwords. Your entered password must \n",
    "meet the following requirements: \n",
    "The password must be at least eight characters long. \n",
    "It must contain at least one uppercase letter. \n",
    "It must contain at least one lowercase letter. \n",
    "It must contain at least one numeric digit. \n",
    "Your program should should perform this validation.  "
   ]
  },
  {
   "cell_type": "code",
   "execution_count": 73,
   "id": "33a03cfa-e1c0-4264-beed-54945a2d4329",
   "metadata": {},
   "outputs": [
    {
     "name": "stdin",
     "output_type": "stream",
     "text": [
      "Enter a password:  P@kistan1947\n"
     ]
    },
    {
     "name": "stdout",
     "output_type": "stream",
     "text": [
      "Password is valid.\n"
     ]
    }
   ],
   "source": [
    "import re\n",
    "\n",
    "# Function to validate the password\n",
    "def validate_password(password):\n",
    "    # Check if the password is at least 8 characters long\n",
    "    if len(password) < 8:\n",
    "        return False, \"Password must be at least 8 characters long.\"\n",
    "    \n",
    "    # Check if the password contains at least one uppercase letter\n",
    "    if not any(char.isupper() for char in password):\n",
    "        return False, \"Password must contain at least one uppercase letter.\"\n",
    "    \n",
    "    # Check if the password contains at least one lowercase letter\n",
    "    if not any(char.islower() for char in password):\n",
    "        return False, \"Password must contain at least one lowercase letter.\"\n",
    "    \n",
    "    # Check if the password contains at least one numeric digit\n",
    "    if not any(char.isdigit() for char in password):\n",
    "        return False, \"Password must contain at least one numeric digit.\"\n",
    "    \n",
    "    return True, \"Password is valid.\"\n",
    "\n",
    "# Accepting user input for the password\n",
    "password_input = input(\"Enter a password: \")\n",
    "\n",
    "# Validate the password\n",
    "is_valid, message = validate_password(password_input)\n",
    "\n",
    "# Display the result\n",
    "if is_valid:\n",
    "    print(message)\n",
    "else:\n",
    "    print(message)\n"
   ]
  },
  {
   "cell_type": "code",
   "execution_count": null,
   "id": "6d981632-2191-4fad-912a-be8571fefdee",
   "metadata": {},
   "outputs": [],
   "source": []
  }
 ],
 "metadata": {
  "kernelspec": {
   "display_name": "Python [conda env:base] *",
   "language": "python",
   "name": "conda-base-py"
  },
  "language_info": {
   "codemirror_mode": {
    "name": "ipython",
    "version": 3
   },
   "file_extension": ".py",
   "mimetype": "text/x-python",
   "name": "python",
   "nbconvert_exporter": "python",
   "pygments_lexer": "ipython3",
   "version": "3.12.7"
  }
 },
 "nbformat": 4,
 "nbformat_minor": 5
}
